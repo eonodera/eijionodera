{
  "nbformat": 4,
  "nbformat_minor": 0,
  "metadata": {
    "colab": {
      "provenance": [],
      "authorship_tag": "ABX9TyOvASlch/4rOaPm+8mKiHya",
      "include_colab_link": true
    },
    "kernelspec": {
      "name": "python3",
      "display_name": "Python 3"
    },
    "language_info": {
      "name": "python"
    }
  },
  "cells": [
    {
      "cell_type": "markdown",
      "metadata": {
        "id": "view-in-github",
        "colab_type": "text"
      },
      "source": [
        "<a href=\"https://colab.research.google.com/github/joshnn/OE_project/blob/main/samples/class_exercise.ipynb\" target=\"_parent\"><img src=\"https://colab.research.google.com/assets/colab-badge.svg\" alt=\"Open In Colab\"/></a>"
      ]
    },
    {
      "cell_type": "code",
      "execution_count": 1,
      "metadata": {
        "id": "c7UhyeSy-Hgv"
      },
      "outputs": [],
      "source": [
        "class Student:\n",
        "  def __init__(self, name, japanese_score, math_score, japanese_teacher, math_teacher):\n",
        "    self.name = name\n",
        "    self.japanese_score = japanese_score\n",
        "    self.math_score\t= math_score\n",
        "    self.japanese_teacher = japanese_teacher\n",
        "    self.math_teacher = math_teacher\n",
        "\n",
        "  def get_average(self):\n",
        "    return (self.japanese_score + self.math_score) / 2\n",
        "\n"
      ]
    },
    {
      "cell_type": "code",
      "source": [
        "#shampoo = Product()\n",
        "#student_A.set_name('生徒A')\n",
        "#student_A.set_japanese_score(100)\n",
        "#student_A.set_math_score(90)\n",
        "#student_A.set_name('生徒A')\n",
        "\n",
        "# 生徒のインスタンスを４つ作る\n",
        "student_A = Student('生徒A', 100, 90, '先生A', '先生C')\n",
        "student_B = Student('生徒B', 90, 80, '先生A', '先生C')\n",
        "student_C = Student('生徒C', 80, 70, '先生B', '先生D')\n",
        "student_D = Student('生徒D', 70, 60, '先生B', '先生D')\n",
        "#student_A1 = Student('生徒A', 100, 90, '先生A', '先生C')\n",
        "#student_A = Student('生徒A', 100, 90, '先生A', '先生C')\n",
        "\n",
        "# 生徒の平均点を出したい\n",
        "# student_A の平均点 = (100 + 90)/2 = 95\n",
        "(student_A.japanese_score + student_A.math_score) / 2\n",
        "student_A.get_average()"
      ],
      "metadata": {
        "colab": {
          "base_uri": "https://localhost:8080/"
        },
        "id": "JXff9q3SAJvR",
        "outputId": "953ae6e3-b09f-4727-db8d-a38aa6a2f566"
      },
      "execution_count": 2,
      "outputs": [
        {
          "output_type": "execute_result",
          "data": {
            "text/plain": [
              "95.0"
            ]
          },
          "metadata": {},
          "execution_count": 2
        }
      ]
    },
    {
      "cell_type": "code",
      "source": [
        "# 先生のインスタンスを作る\n",
        "# 先生に平均点を計算するメソッドを実装する\n",
        "\n",
        "class Teacher:\n",
        "  def __init__(self, name, subject, students):\n",
        "    self.name = name\n",
        "    self.subject = subject\n",
        "    self.students = students\n",
        "\n",
        "  def get_average(self):\n",
        "    # teacher_Aの平均点を出す\n",
        "    all_sum = 0\n",
        "    count = 0\n",
        "    for student in self.students: # [student_A, student_B]\n",
        "      # ループで取り出した生徒の先生が担当する科目の点数を加算していく\n",
        "      if self.subject == '国語':\n",
        "        all_sum += student.japanese_score\n",
        "      elif self.subject == '数学':\n",
        "        all_sum += student.math_score\n",
        "      count += 1\n",
        "    average = all_sum / count\n",
        "    return average\n"
      ],
      "metadata": {
        "id": "-BEA3gRVCpnT"
      },
      "execution_count": 3,
      "outputs": []
    },
    {
      "cell_type": "code",
      "source": [
        "teacher_A = Teacher('先生A', '国語', [student_A, student_B])\n",
        "teacher_B = Teacher('先生B', '国語', [student_C, student_D])\n",
        "teacher_C = Teacher('先生C', '数学', [student_A, student_B])\n",
        "teacher_D = Teacher('先生D', '数学', [student_C, student_D])\n",
        "\n",
        "# teacher_Aの平均点を出す\n",
        "japanese_sum = 0\n",
        "count = 0\n",
        "for student in teacher_A.students: # [student_A, student_B]\n",
        "  # ループで取り出した生徒の国語の点数を加算していく\n",
        "  japanese_sum += student.japanese_score\n",
        "  count += 1\n",
        "#print(japanese_sum / count)\n",
        "\n",
        "teacher_A.get_average()"
      ],
      "metadata": {
        "colab": {
          "base_uri": "https://localhost:8080/"
        },
        "id": "XtsD3gwqEVWS",
        "outputId": "dbf4316b-a07a-4fb5-f46c-f949e4d11d8d"
      },
      "execution_count": 4,
      "outputs": [
        {
          "output_type": "execute_result",
          "data": {
            "text/plain": [
              "95.0"
            ]
          },
          "metadata": {},
          "execution_count": 4
        }
      ]
    },
    {
      "cell_type": "code",
      "source": [
        "teacher_C.get_average()"
      ],
      "metadata": {
        "colab": {
          "base_uri": "https://localhost:8080/"
        },
        "id": "vPq9i9tHIX2J",
        "outputId": "ea1a4fad-e3d5-481d-a9e8-c8ac03aae388"
      },
      "execution_count": 5,
      "outputs": [
        {
          "output_type": "execute_result",
          "data": {
            "text/plain": [
              "85.0"
            ]
          },
          "metadata": {},
          "execution_count": 5
        }
      ]
    },
    {
      "cell_type": "code",
      "source": [
        "# 学校の合計点を出す\n",
        "class School:\n",
        "  def __init__(self, name, students, teachers):\n",
        "    self.name = name\n",
        "    self.students = students\n",
        "    self.teachers = teachers\n",
        "\n",
        "  def get_average(self):\n",
        "    all_sum = 0\n",
        "    count = 0\n",
        "    for student in self.students:\n",
        "      # ループで取り出した生徒の国語の点数を加算していく\n",
        "      all_sum += student.japanese_score + student.math_score\n",
        "      count += 2\n",
        "    #print(sum/count)\n",
        "    average = all_sum/count\n",
        "    return average\n",
        "\n",
        "  def get_average2(self):\n",
        "    all_sum_list = [len(t.students)*t.get_average() for t in self.teachers]\n",
        "    print(all_sum_list)\n",
        "    all_sum = sum(all_sum_list)\n",
        "    return all_sum / (len(self.students) * 2)"
      ],
      "metadata": {
        "id": "m0jasgcOIKQK"
      },
      "execution_count": 6,
      "outputs": []
    },
    {
      "cell_type": "code",
      "source": [
        "school = School('学校A',\n",
        "  [student_A, student_B, student_C, student_D],\n",
        "  [teacher_A, teacher_B, teacher_C, teacher_D])"
      ],
      "metadata": {
        "id": "BYssJCemKo1w"
      },
      "execution_count": 7,
      "outputs": []
    },
    {
      "cell_type": "code",
      "source": [
        "all_sum = 0\n",
        "count = 0\n",
        "for student in school.students:\n",
        "  # ループで取り出した生徒の国語の点数を加算していく\n",
        "  all_sum += student.japanese_score + student.math_score\n",
        "  count += 2\n",
        "print(all_sum/count)"
      ],
      "metadata": {
        "colab": {
          "base_uri": "https://localhost:8080/"
        },
        "id": "UhCfvAYWLA9_",
        "outputId": "7f36adf8-8361-41f2-de48-1cea977cf293"
      },
      "execution_count": 8,
      "outputs": [
        {
          "output_type": "stream",
          "name": "stdout",
          "text": [
            "80.0\n"
          ]
        }
      ]
    },
    {
      "cell_type": "code",
      "source": [
        "print(school.get_average(), school.get_average2())"
      ],
      "metadata": {
        "colab": {
          "base_uri": "https://localhost:8080/"
        },
        "id": "fxUlTGUtOdCj",
        "outputId": "09b8d553-0c98-42a2-9590-4fa70f64a1c8"
      },
      "execution_count": 9,
      "outputs": [
        {
          "output_type": "stream",
          "name": "stdout",
          "text": [
            "[190.0, 150.0, 170.0, 130.0]\n",
            "80.0 80.0\n"
          ]
        }
      ]
    },
    {
      "cell_type": "code",
      "source": [
        "sum([1,2,3])"
      ],
      "metadata": {
        "colab": {
          "base_uri": "https://localhost:8080/"
        },
        "id": "zTxp90EgO_90",
        "outputId": "95c5caef-bfa2-48b2-b2ac-2e80ca6fcc8f"
      },
      "execution_count": 11,
      "outputs": [
        {
          "output_type": "execute_result",
          "data": {
            "text/plain": [
              "6"
            ]
          },
          "metadata": {},
          "execution_count": 11
        }
      ]
    },
    {
      "cell_type": "code",
      "source": [],
      "metadata": {
        "id": "N1lu6XVyPA1u"
      },
      "execution_count": null,
      "outputs": []
    }
  ]
}