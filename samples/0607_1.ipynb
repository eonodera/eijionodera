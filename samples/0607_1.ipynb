{
 "cells": [
  {
   "cell_type": "code",
   "execution_count": 25,
   "metadata": {},
   "outputs": [],
   "source": [
    "import pandas as pd\n",
    "DISTANCE = pd.read_csv('0607_distance.csv')\n",
    "SHIPPING = pd.read_csv('0607_shipping.csv')\n",
    "\n",
    "DISTANCE_MAP = {}\n",
    "for destination, distance in DISTANCE.values:\n",
    "    DISTANCE_MAP[destination] = distance\n",
    "\n",
    "\n",
    "def get_shipping(destination):\n",
    "    distance = DISTANCE_MAP[destination]\n",
    "\n",
    "    # 初期値は最低料金\n",
    "    prev_cost = 800\n",
    "    for dist_upto, cost in SHIPPING.values:\n",
    "        # 距離がuptoを超えたら前のコストを返す\n",
    "        if distance < dist_upto:\n",
    "            break\n",
    "        \n",
    "        prev_cost = cost\n",
    "    \n",
    "    return prev_cost\n",
    "\n"
   ]
  },
  {
   "cell_type": "code",
   "execution_count": 26,
   "metadata": {},
   "outputs": [
    {
     "name": "stdout",
     "output_type": "stream",
     "text": [
      "hokkaido: 1500\n",
      "tohoku: 1200\n",
      "kanto: 800\n",
      "toukai: 800\n",
      "kinki: 800\n",
      "hokuriku: 800\n",
      "kyushu: 1200\n",
      "okinawa: 1500\n"
     ]
    }
   ],
   "source": [
    "for pref in DISTANCE['destination']:\n",
    "    print(f'{pref}: {get_shipping(pref)}')\n",
    "    "
   ]
  }
 ],
 "metadata": {
  "kernelspec": {
   "display_name": "venv310",
   "language": "python",
   "name": "python3"
  },
  "language_info": {
   "codemirror_mode": {
    "name": "ipython",
    "version": 3
   },
   "file_extension": ".py",
   "mimetype": "text/x-python",
   "name": "python",
   "nbconvert_exporter": "python",
   "pygments_lexer": "ipython3",
   "version": "3.10.6"
  },
  "orig_nbformat": 4
 },
 "nbformat": 4,
 "nbformat_minor": 2
}
